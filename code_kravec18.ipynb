{
 "cells": [
  {
   "cell_type": "code",
   "execution_count": 1,
   "id": "32e733c9-61eb-45f6-b485-3cf24b98d07f",
   "metadata": {},
   "outputs": [],
   "source": [
    "import numpy as np\n",
    "import matplotlib.pyplot as plt\n",
    "from time import time\n",
    "import numba"
   ]
  },
  {
   "cell_type": "code",
   "execution_count": 9,
   "id": "e14f8e2a-8006-4d64-a452-cd82012f0164",
   "metadata": {},
   "outputs": [],
   "source": []
  },
  {
   "cell_type": "code",
   "execution_count": 15,
   "id": "1dd3436a-1ee2-4ae8-ad6b-7aa3ecab0e23",
   "metadata": {},
   "outputs": [],
   "source": [
    "pairs = {\"A\": \"U\", \"U\": \"A\", \"C\": \"G\", \"G\": \"C\"}\n",
    "def pair(base_1, base_2):\n",
    "    if pairs[base_1] == base_2:\n",
    "        return 1\n",
    "    else:\n",
    "        return 0"
   ]
  },
  {
   "cell_type": "code",
   "execution_count": 65,
   "id": "73f4099f-4f9c-4a15-a2cd-b81b12fa351d",
   "metadata": {},
   "outputs": [],
   "source": [
    "def nussin(seq):\n",
    "    n = len(seq)\n",
    "    A = np.zeros((n,n))\n",
    "    B = np.zeros((n,n))\n",
    "    for length in range(1, n):\n",
    "        for i in range(n):\n",
    "            j = i + length\n",
    "            if j < n:\n",
    "                pos_val = 0\n",
    "                A[i, j], B[i, j] = max([(A[i+1, j], 1), \n",
    "                                        (A[i, j-1], 2), \n",
    "                                        (A[i+1, j-1]+pair(seq[i], seq[j]), 3) \n",
    "                                        ], key= lambda x: x[0])\n",
    "    return(A[0, n-1], B)"
   ]
  },
  {
   "cell_type": "code",
   "execution_count": 66,
   "id": "5aa4f7eb-9c0b-4e86-81e1-ccc8c9e2581b",
   "metadata": {},
   "outputs": [],
   "source": [
    "def construct(seq, nus_table):\n",
    "    i = 0\n",
    "    j = len(seq)-1\n",
    "    out = \"\"\n",
    "    while i < j:\n",
    "        if nus_table[i, j] == 1:\n",
    "            out = \".\"+out\n",
    "            i += 1\n",
    "        elif nus_table[i, j] == 2:\n",
    "            out = out+\".\"\n",
    "            j -= 1\n",
    "        elif nus_table[i, j] == 3:\n",
    "            out = \"(\"+out+\")\"\n",
    "            i += 1\n",
    "            j -= 1\n",
    "    return out"
   ]
  },
  {
   "cell_type": "code",
   "execution_count": 67,
   "id": "7037c8c1-1595-4380-b3b1-4fb6ab1938e4",
   "metadata": {},
   "outputs": [
    {
     "name": "stdout",
     "output_type": "stream",
     "text": [
      "6.0\n",
      "ACGCACGCAAAGCGGCGA\n",
      "..(((.(((..))))))\n"
     ]
    }
   ],
   "source": [
    "n = nussin(\"ACGCACGCAAAGCGGCGA\")\n",
    "print(n[0])\n",
    "o = construct(\"ACGCACGCAAAGCGGCGA\", n[1])\n",
    "print(\"ACGCACGCAAAGCGGCGA\")\n",
    "print(o)"
   ]
  },
  {
   "cell_type": "code",
   "execution_count": 32,
   "id": "f162d4d4-c89d-439f-887c-3c53234c4e49",
   "metadata": {},
   "outputs": [
    {
     "data": {
      "text/plain": [
       "(1, 2)"
      ]
     },
     "execution_count": 32,
     "metadata": {},
     "output_type": "execute_result"
    }
   ],
   "source": [
    "max([(1, 2), (1,3)], key= lambda x: x[0])"
   ]
  },
  {
   "cell_type": "code",
   "execution_count": 30,
   "id": "6c8023bb-4a35-4de9-9801-de08a22c02aa",
   "metadata": {},
   "outputs": [
    {
     "data": {
      "text/plain": [
       "1"
      ]
     },
     "execution_count": 30,
     "metadata": {},
     "output_type": "execute_result"
    }
   ],
   "source": [
    "(1, 2)[0]"
   ]
  }
 ],
 "metadata": {
  "kernelspec": {
   "display_name": "Python 3 (ipykernel)",
   "language": "python",
   "name": "python3"
  },
  "language_info": {
   "codemirror_mode": {
    "name": "ipython",
    "version": 3
   },
   "file_extension": ".py",
   "mimetype": "text/x-python",
   "name": "python",
   "nbconvert_exporter": "python",
   "pygments_lexer": "ipython3",
   "version": "3.10.7"
  }
 },
 "nbformat": 4,
 "nbformat_minor": 5
}
