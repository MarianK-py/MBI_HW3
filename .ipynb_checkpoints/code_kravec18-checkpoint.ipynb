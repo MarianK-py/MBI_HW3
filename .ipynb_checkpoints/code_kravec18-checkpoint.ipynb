{
 "cells": [
  {
   "cell_type": "code",
   "execution_count": 1,
   "id": "32e733c9-61eb-45f6-b485-3cf24b98d07f",
   "metadata": {},
   "outputs": [],
   "source": [
    "import numpy as np\n",
    "import matplotlib.pyplot as plt\n",
    "from time import time\n",
    "import numba"
   ]
  },
  {
   "cell_type": "code",
   "execution_count": 9,
   "id": "e14f8e2a-8006-4d64-a452-cd82012f0164",
   "metadata": {},
   "outputs": [],
   "source": [
    "pairs = {\"A\": \"U\", \"U\": \"A\", \"C\": \"G\", \"G\": \"C\"}"
   ]
  },
  {
   "cell_type": "code",
   "execution_count": 10,
   "id": "1dd3436a-1ee2-4ae8-ad6b-7aa3ecab0e23",
   "metadata": {},
   "outputs": [],
   "source": [
    "def pair(base_1, base_2):\n",
    "    if pairs[base_1] == base_2:\n",
    "        return 1\n",
    "    else:\n",
    "        return 0"
   ]
  },
  {
   "cell_type": "code",
   "execution_count": 5,
   "id": "73f4099f-4f9c-4a15-a2cd-b81b12fa351d",
   "metadata": {},
   "outputs": [],
   "source": [
    "def nussin(seq):\n",
    "    n = len(seq)\n",
    "    table = np.zeros((n,n))\n",
    "    print(table)\n",
    "    for i in range(n):\n",
    "        for j in range(i, n)"
   ]
  },
  {
   "cell_type": "code",
   "execution_count": 8,
   "id": "7037c8c1-1595-4380-b3b1-4fb6ab1938e4",
   "metadata": {},
   "outputs": [
    {
     "data": {
      "text/plain": [
       "[2, 3, 4, 5, 6, 7, 8, 9]"
      ]
     },
     "execution_count": 8,
     "metadata": {},
     "output_type": "execute_result"
    }
   ],
   "source": [
    "list(range(2,10))"
   ]
  }
 ],
 "metadata": {
  "kernelspec": {
   "display_name": "Python 3 (ipykernel)",
   "language": "python",
   "name": "python3"
  },
  "language_info": {
   "codemirror_mode": {
    "name": "ipython",
    "version": 3
   },
   "file_extension": ".py",
   "mimetype": "text/x-python",
   "name": "python",
   "nbconvert_exporter": "python",
   "pygments_lexer": "ipython3",
   "version": "3.10.7"
  }
 },
 "nbformat": 4,
 "nbformat_minor": 5
}
