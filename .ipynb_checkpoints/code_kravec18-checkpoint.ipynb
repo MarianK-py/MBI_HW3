{
 "cells": [
  {
   "cell_type": "code",
   "execution_count": 1,
   "id": "32e733c9-61eb-45f6-b485-3cf24b98d07f",
   "metadata": {},
   "outputs": [],
   "source": [
    "import numpy as np\n",
    "import matplotlib.pyplot as plt\n",
    "from time import time\n",
    "import numba"
   ]
  },
  {
   "cell_type": "code",
   "execution_count": 9,
   "id": "e14f8e2a-8006-4d64-a452-cd82012f0164",
   "metadata": {},
   "outputs": [],
   "source": []
  },
  {
   "cell_type": "code",
   "execution_count": 15,
   "id": "1dd3436a-1ee2-4ae8-ad6b-7aa3ecab0e23",
   "metadata": {},
   "outputs": [],
   "source": [
    "pairs = {\"A\": \"U\", \"U\": \"A\", \"C\": \"G\", \"G\": \"C\"}\n",
    "def pair(base_1, base_2):\n",
    "    if pairs[base_1] == base_2:\n",
    "        return 1\n",
    "    else:\n",
    "        return 0"
   ]
  },
  {
   "cell_type": "code",
   "execution_count": 169,
   "id": "5aa4f7eb-9c0b-4e86-81e1-ccc8c9e2581b",
   "metadata": {},
   "outputs": [],
   "source": [
    "def construct(n, nus_table):\n",
    "    i = 0\n",
    "    j = n-1\n",
    "    left = \"\"\n",
    "    right = \"\"\n",
    "    while i <= j:\n",
    "        if i == j:\n",
    "            left = left+\".\"\n",
    "            i += 1\n",
    "        elif nus_table[i, j] == 1:\n",
    "            left = left+\".\"\n",
    "            i += 1\n",
    "        elif nus_table[i, j] == 2:\n",
    "            right = \".\"+right\n",
    "            j -= 1\n",
    "        elif nus_table[i, j] == 3:\n",
    "            left, right = left+\"(\", \")\"+right\n",
    "            i += 1\n",
    "            j -= 1\n",
    "    return left+right"
   ]
  },
  {
   "cell_type": "code",
   "execution_count": 170,
   "id": "73f4099f-4f9c-4a15-a2cd-b81b12fa351d",
   "metadata": {},
   "outputs": [],
   "source": [
    "def nussin(seq):\n",
    "    n = len(seq)\n",
    "    A = np.zeros((n,n))\n",
    "    B = np.zeros((n,n))\n",
    "    for length in range(1, n):\n",
    "        for i in range(n):\n",
    "            j = i + length\n",
    "            if j < n:\n",
    "                pos_val = 0\n",
    "                A[i, j], B[i, j] = max([(A[i+1, j], 1), \n",
    "                                        (A[i, j-1], 2), \n",
    "                                        (A[i+1, j-1]+pair(seq[i], seq[j]), 3) \n",
    "                                        ], key= lambda x: x[0])\n",
    "    return(A[0, n-1], construct(n, B))"
   ]
  },
  {
   "cell_type": "code",
   "execution_count": 172,
   "id": "7037c8c1-1595-4380-b3b1-4fb6ab1938e4",
   "metadata": {},
   "outputs": [
    {
     "name": "stdout",
     "output_type": "stream",
     "text": [
      "6.0\n",
      "ACGCACGCAAAGCGAGGCGA\n",
      ".(((.(((...))).).)).\n"
     ]
    }
   ],
   "source": [
    "test_seq = \"ACGCACGCAAAGCGAGGCGA\"\n",
    "n = nussin(test_seq)\n",
    "print(n[0])\n",
    "print(test_seq)\n",
    "print(n[1])"
   ]
  },
  {
   "cell_type": "code",
   "execution_count": 173,
   "id": "696f3b69-fbfe-4436-880b-2ff501bbcf80",
   "metadata": {},
   "outputs": [],
   "source": [
    "def construct_mod(n, nus_table, add_table):\n",
    "    i = 0\n",
    "    j = n-1\n",
    "    left = \"\"\n",
    "    right = \"\"\n",
    "    while i <= j:\n",
    "        if i == j:\n",
    "            left = left+\".\"\n",
    "            i += 1\n",
    "        elif add_table[i, j] == 1:\n",
    "            left, right = left+\"(\", \")\"+right\n",
    "            i += 1\n",
    "            j -= 1\n",
    "        elif nus_table[i, j] == 1:\n",
    "            left = left+\".\"\n",
    "            i += 1\n",
    "        elif nus_table[i, j] == 2:\n",
    "            right = \".\"+right\n",
    "            j -= 1\n",
    "        elif nus_table[i, j] == 3:\n",
    "            left, right = left+\"(\", \")\"+right\n",
    "            i += 1\n",
    "            j -= 1\n",
    "    return left+right"
   ]
  },
  {
   "cell_type": "code",
   "execution_count": 192,
   "id": "6c8023bb-4a35-4de9-9801-de08a22c02aa",
   "metadata": {},
   "outputs": [],
   "source": [
    "def nussin_mod(seq):\n",
    "    n = len(seq)\n",
    "    A = np.zeros((n,n))\n",
    "    B = np.zeros((n,n))\n",
    "    C = np.zeros((n,n))\n",
    "    for length in range(1, n):\n",
    "        for i in range(n):\n",
    "            j = i + length\n",
    "            if j < n:\n",
    "                pos_val = 0\n",
    "                A[i, j], B[i, j] = max([(A[i+1, j], 1), \n",
    "                                        (A[i, j-1], 2), \n",
    "                                        (A[i+1, j-1]+pair(seq[i], seq[j]), 3) \n",
    "                                        ], key= lambda x: x[0])\n",
    "                if (pair(seq[i+1], seq[j-1])==1 and \n",
    "                    pair(seq[i], seq[j])==1 and \n",
    "                    length >1 and\n",
    "                    A[i+1, j-1] == A[i,j]-1 and\n",
    "                    A[i+2, j-2] == A[i,j]-2):\n",
    "                    B[i,j] = 3\n",
    "                    B[i+1, j-1] = 3\n",
    "                C[i, j] = max([C[i+1, j], \n",
    "                               C[i, j-1], \n",
    "                               C[i+1, j-1]+int(pair(seq[i+1], seq[j-1])==1 and pair(seq[i], seq[j])==1 and length >1)])\n",
    "                \n",
    "    return(A[0, n-1], C[0, n-1], construct(n, B))"
   ]
  },
  {
   "cell_type": "code",
   "execution_count": 193,
   "id": "3b150057-0b81-42ac-a1d4-d31ff5d0f75c",
   "metadata": {},
   "outputs": [
    {
     "data": {
      "text/plain": [
       "(2.0, 1.0, '((..)).')"
      ]
     },
     "execution_count": 193,
     "metadata": {},
     "output_type": "execute_result"
    }
   ],
   "source": [
    "nussin_mod(\"CCGAGGA\")"
   ]
  },
  {
   "cell_type": "code",
   "execution_count": 194,
   "id": "c6428c6a-abca-4f57-b113-e34a3826411d",
   "metadata": {},
   "outputs": [
    {
     "data": {
      "text/plain": [
       "(2.0, '(().)..')"
      ]
     },
     "execution_count": 194,
     "metadata": {},
     "output_type": "execute_result"
    }
   ],
   "source": [
    "nussin(\"CCGAGGA\")"
   ]
  },
  {
   "cell_type": "code",
   "execution_count": 195,
   "id": "ebdddbab-3939-4ae2-ae39-deec9c717b6a",
   "metadata": {},
   "outputs": [
    {
     "name": "stdout",
     "output_type": "stream",
     "text": [
      "6.0 4.0\n",
      ".(((.(((...)))..))).\n",
      "ACGCACGCAAAGCGAGGCGA\n"
     ]
    }
   ],
   "source": [
    "test_seq = \"ACGCACGCAAAGCGAGGCGA\"\n",
    "n = nussin_mod(test_seq)\n",
    "print(n[0], n[1])\n",
    "print(n[2])\n",
    "print(test_seq)\n"
   ]
  }
 ],
 "metadata": {
  "kernelspec": {
   "display_name": "Python 3 (ipykernel)",
   "language": "python",
   "name": "python3"
  },
  "language_info": {
   "codemirror_mode": {
    "name": "ipython",
    "version": 3
   },
   "file_extension": ".py",
   "mimetype": "text/x-python",
   "name": "python",
   "nbconvert_exporter": "python",
   "pygments_lexer": "ipython3",
   "version": "3.10.7"
  }
 },
 "nbformat": 4,
 "nbformat_minor": 5
}
